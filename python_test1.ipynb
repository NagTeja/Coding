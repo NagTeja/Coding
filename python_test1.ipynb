{
  "nbformat": 4,
  "nbformat_minor": 0,
  "metadata": {
    "colab": {
      "provenance": [],
      "authorship_tag": "ABX9TyP/6/uM0OZHXuCa8yapVxIq",
      "include_colab_link": true
    },
    "kernelspec": {
      "name": "python3",
      "display_name": "Python 3"
    },
    "language_info": {
      "name": "python"
    }
  },
  "cells": [
    {
      "cell_type": "markdown",
      "metadata": {
        "id": "view-in-github",
        "colab_type": "text"
      },
      "source": [
        "<a href=\"https://colab.research.google.com/github/NagTeja/Coding/blob/main/python_test1.ipynb\" target=\"_parent\"><img src=\"https://colab.research.google.com/assets/colab-badge.svg\" alt=\"Open In Colab\"/></a>"
      ]
    },
    {
      "cell_type": "code",
      "execution_count": 1,
      "metadata": {
        "colab": {
          "base_uri": "https://localhost:8080/"
        },
        "id": "273lrwJPvQYb",
        "outputId": "c1cc8d07-2613-418d-e111-7842ddf98ec3"
      },
      "outputs": [
        {
          "output_type": "execute_result",
          "data": {
            "text/plain": [
              "True"
            ]
          },
          "metadata": {},
          "execution_count": 1
        }
      ],
      "source": [
        "2 == 2"
      ]
    },
    {
      "cell_type": "code",
      "source": [
        "2 == 5"
      ],
      "metadata": {
        "colab": {
          "base_uri": "https://localhost:8080/"
        },
        "id": "mQLT3AMJv0IE",
        "outputId": "c24c06ac-2d5c-4742-eed3-578dd2b7ea03"
      },
      "execution_count": 2,
      "outputs": [
        {
          "output_type": "execute_result",
          "data": {
            "text/plain": [
              "False"
            ]
          },
          "metadata": {},
          "execution_count": 2
        }
      ]
    },
    {
      "cell_type": "code",
      "source": [
        "1 < 0"
      ],
      "metadata": {
        "colab": {
          "base_uri": "https://localhost:8080/"
        },
        "id": "7UGyV8WKv6rx",
        "outputId": "1745b683-7544-40ab-f9d8-1563e920dbf4"
      },
      "execution_count": 3,
      "outputs": [
        {
          "output_type": "execute_result",
          "data": {
            "text/plain": [
              "False"
            ]
          },
          "metadata": {},
          "execution_count": 3
        }
      ]
    },
    {
      "cell_type": "code",
      "source": [
        "1<2<3"
      ],
      "metadata": {
        "colab": {
          "base_uri": "https://localhost:8080/"
        },
        "id": "Y6tSCpiYwUN2",
        "outputId": "866cffb9-cec3-4903-892d-5959a3e518b0"
      },
      "execution_count": 4,
      "outputs": [
        {
          "output_type": "execute_result",
          "data": {
            "text/plain": [
              "True"
            ]
          },
          "metadata": {},
          "execution_count": 4
        }
      ]
    },
    {
      "cell_type": "code",
      "source": [
        "1>2>3"
      ],
      "metadata": {
        "colab": {
          "base_uri": "https://localhost:8080/"
        },
        "id": "RHQVZYSDwW2k",
        "outputId": "a8932365-bafe-4f48-a005-730857e74599"
      },
      "execution_count": 5,
      "outputs": [
        {
          "output_type": "execute_result",
          "data": {
            "text/plain": [
              "False"
            ]
          },
          "metadata": {},
          "execution_count": 5
        }
      ]
    },
    {
      "cell_type": "markdown",
      "source": [
        "hungry = True\n",
        "if hungry:\n",
        "  print('true')"
      ],
      "metadata": {
        "id": "HlR86MO7Mkxz"
      }
    },
    {
      "cell_type": "code",
      "source": [
        "hungry = False\n",
        "if hungry:\n",
        "  print('true')\n",
        "else:\n",
        "  print('not true')"
      ],
      "metadata": {
        "colab": {
          "base_uri": "https://localhost:8080/"
        },
        "id": "hTw5RO2fNCui",
        "outputId": "908ecb7d-efed-4f37-a9bf-4248827db1b3"
      },
      "execution_count": 9,
      "outputs": [
        {
          "output_type": "stream",
          "name": "stdout",
          "text": [
            "not true\n"
          ]
        }
      ]
    },
    {
      "cell_type": "code",
      "source": [
        "loc = 'Bank'\n",
        "if loc == 'Auto Shop':\n",
        "  print('cars are cool')\n",
        "elif loc == 'Bank':\n",
        "  print('money is cool')\n",
        "else:\n",
        "  print('i do not know much')"
      ],
      "metadata": {
        "colab": {
          "base_uri": "https://localhost:8080/"
        },
        "id": "A8l20jplNf71",
        "outputId": "ea50ed35-0e4e-4f33-92b6-c42e6a90621e"
      },
      "execution_count": 10,
      "outputs": [
        {
          "output_type": "stream",
          "name": "stdout",
          "text": [
            "money is cool\n"
          ]
        }
      ]
    },
    {
      "cell_type": "code",
      "source": [
        "name = 'Sammy'\n",
        "if name == 'Frankie':\n",
        "  print('hello Frankie')\n",
        "elif name == 'Sammy':\n",
        "  print('hello Sammy')\n",
        "else:\n",
        "  print('what is your name')"
      ],
      "metadata": {
        "id": "1Dka_wSSN2VN"
      },
      "execution_count": null,
      "outputs": []
    }
  ]
}